{
 "cells": [
  {
   "cell_type": "markdown",
   "metadata": {},
   "source": [
    "# Transfer Learning with Dataset: EMNIST"
   ]
  },
  {
   "cell_type": "markdown",
   "metadata": {},
   "source": [
    "Imports"
   ]
  },
  {
   "cell_type": "code",
   "execution_count": 80,
   "metadata": {},
   "outputs": [],
   "source": [
    "import numpy as np\n",
    "import os\n",
    "import tensorflow as tf\n",
    "import tensorflow.keras as keras\n",
    "from sklearn.metrics import confusion_matrix\n",
    "from sklearn.model_selection import train_test_split\n",
    "from extra_keras_datasets import emnist\n",
    "import matplotlib.pyplot as plt"
   ]
  },
  {
   "cell_type": "markdown",
   "metadata": {},
   "source": [
    "Load Dataset"
   ]
  },
  {
   "cell_type": "code",
   "execution_count": 81,
   "metadata": {},
   "outputs": [
    {
     "name": "stderr",
     "output_type": "stream",
     "text": [
      "INFO:root:Loading dataset = emnist\n"
     ]
    },
    {
     "name": "stdout",
     "output_type": "stream",
     "text": [
      "Loading EMNIST dataset...\n"
     ]
    },
    {
     "name": "stderr",
     "output_type": "stream",
     "text": [
      "WARNING:root:Please cite the following paper when using or referencing this Extra Keras Dataset:\n",
      "WARNING:root:Cohen, G., Afshar, S., Tapson, J., & van Schaik, A. (2017). EMNIST: an extension of MNIST to handwritten letters. Retrieved from http://arxiv.org/abs/1702.05373\n"
     ]
    }
   ],
   "source": [
    "print(\"Loading EMNIST dataset...\")\n",
    "(x_train, y_train), (x_test, y_test) = emnist.load_data(type='balanced')\n",
    "\n",
    "# separate x_train and y_train into training and validation sets\n",
    "x_train, x_val, y_train, y_val = train_test_split(x_train, y_train, test_size=0.2)\n",
    "\n",
    "# sort out everything except hex digits (A-F, 0-9)\n",
    "hex_labels = list(range(0, 10)) + list(range(10, 16))\n",
    "\n",
    "# Filter the training set\n",
    "bool_train_idxs = np.isin(y_train, hex_labels)\n",
    "x_train_hex = x_train[bool_train_idxs]\n",
    "y_train_hex = y_train[bool_train_idxs]\n",
    "\n",
    "# Filter the validation set\n",
    "bool_val_idxs = np.isin(y_val, hex_labels)\n",
    "x_val_hex = x_val[bool_val_idxs]\n",
    "y_val_hex = y_val[bool_val_idxs]\n",
    "\n",
    "# Filter the test set\n",
    "bool_test_idxs = np.isin(y_test, hex_labels)\n",
    "x_test_hex = x_test[bool_test_idxs]\n",
    "y_test_hex = y_test[bool_test_idxs]"
   ]
  },
  {
   "cell_type": "markdown",
   "metadata": {},
   "source": [
    "Plot some digits:"
   ]
  },
  {
   "cell_type": "code",
   "execution_count": 84,
   "metadata": {},
   "outputs": [
    {
     "data": {
      "image/png": "[encoded data removed]",
      "text/plain": [
       "<Figure size 1000x400 with 10 Axes>"
      ]
     },
     "metadata": {},
     "output_type": "display_data"
    }
   ],
   "source": [
    "fig, axes = plt.subplots(2, 5, figsize=(10, 4))\n",
    "for i, ax in enumerate(axes.flat):\n",
    "    ax.imshow(x_train_hex[i], cmap='binary')\n",
    "    ax.set_title(hex(y_train_hex[i]))\n",
    "    ax.set_xticks([])\n",
    "    ax.set_yticks([])\n",
    "plt.show()\n"
   ]
  },
  {
   "cell_type": "markdown",
   "metadata": {},
   "source": [
    "Normalize the set:"
   ]
  },
  {
   "cell_type": "code",
   "execution_count": 85,
   "metadata": {},
   "outputs": [
    {
     "name": "stdout",
     "output_type": "stream",
     "text": [
      "Training set shape: (30796, 28, 28, 1)\n",
      "Training labels shape: (30796, 16)\n",
      "Validation set shape: (7604, 28, 28, 1)\n",
      "Validation labels shape: (7604, 16)\n",
      "Testing set shape: (6400, 28, 28, 1)\n",
      "Testing labels shape: (6400, 16)\n"
     ]
    }
   ],
   "source": [
    "# Convert and preprocess the training data\n",
    "x_train_hex = x_train_hex.reshape(-1, 28, 28, 1)\n",
    "x_train_hex = x_train_hex.astype('float32')\n",
    "x_train_hex /= 255\n",
    "y_train_hex = keras.utils.to_categorical(y_train_hex, 16)\n",
    "\n",
    "# Convert and preprocess the validation data\n",
    "x_val_hex = x_val_hex.reshape(-1, 28, 28, 1)\n",
    "x_val_hex = x_val_hex.astype('float32')\n",
    "x_val_hex /= 255\n",
    "y_val_hex = keras.utils.to_categorical(y_val_hex, 16)\n",
    "\n",
    "# Convert and preprocess the testing data\n",
    "x_test_hex = x_test_hex.reshape(-1, 28, 28, 1)\n",
    "x_test_hex = x_test_hex.astype('float32')\n",
    "x_test_hex /= 255\n",
    "y_test_hex = keras.utils.to_categorical(y_test_hex, 16)\n",
    "\n",
    "print(\"Training set shape:\", x_train_hex.shape)\n",
    "print(\"Training labels shape:\", y_train_hex.shape)\n",
    "print(\"Validation set shape:\", x_val_hex.shape)\n",
    "print(\"Validation labels shape:\", y_val_hex.shape)\n",
    "print(\"Testing set shape:\", x_test_hex.shape)\n",
    "print(\"Testing labels shape:\", y_test_hex.shape)"
   ]
  },
  {
   "cell_type": "markdown",
   "metadata": {},
   "source": [
    "Load the previous cnn model:"
   ]
  },
  {
   "cell_type": "code",
   "execution_count": 86,
   "metadata": {},
   "outputs": [
    {
     "name": "stdout",
     "output_type": "stream",
     "text": [
      "Model: \"sequential_2\"\n",
      "_________________________________________________________________\n",
      " Layer (type)                Output Shape              Param #   \n",
      "=================================================================\n",
      " conv2d (Conv2D)             (None, 24, 24, 32)        832       \n",
      "                                                                 \n",
      " max_pooling2d (MaxPooling2D  (None, 12, 12, 32)       0         \n",
      " )                                                               \n",
      "                                                                 \n",
      " conv2d_1 (Conv2D)           (None, 10, 10, 64)        18496     \n",
      "                                                                 \n",
      " max_pooling2d_1 (MaxPooling  (None, 5, 5, 64)         0         \n",
      " 2D)                                                             \n",
      "                                                                 \n",
      " flatten (Flatten)           (None, 1600)              0         \n",
      "                                                                 \n",
      "=================================================================\n",
      "Total params: 19,328\n",
      "Trainable params: 19,328\n",
      "Non-trainable params: 0\n",
      "_________________________________________________________________\n"
     ]
    }
   ],
   "source": [
    "current_path = os.path.abspath(\"\")\n",
    "base_model = tf.keras.models.load_model(os.path.join(current_path, 'models', 'cnn_mnist.h5'))\n",
    "\n",
    "# remove the last layer\n",
    "base_model.pop()\n",
    "\n",
    "base_model.summary()"
   ]
  },
  {
   "cell_type": "markdown",
   "metadata": {},
   "source": [
    "Freeze the model and add layers:"
   ]
  },
  {
   "cell_type": "code",
   "execution_count": 87,
   "metadata": {},
   "outputs": [],
   "source": [
    "inputs = tf.keras.Input(shape=(28, 28, 1))\n",
    "x = base_model(inputs, training=False)\n",
    "\n",
    "# Add a new dense layer for classification\n",
    "last_layer = tf.keras.layers.Dense(16)(x)\n",
    "output = tf.keras.layers.Activation('softmax')(last_layer)\n",
    "\n",
    "model = tf.keras.Model(inputs, output)"
   ]
  },
  {
   "cell_type": "markdown",
   "metadata": {},
   "source": [
    "Compile the model:"
   ]
  },
  {
   "cell_type": "code",
   "execution_count": 88,
   "metadata": {},
   "outputs": [
    {
     "name": "stdout",
     "output_type": "stream",
     "text": [
      "Model: \"model_8\"\n",
      "_________________________________________________________________\n",
      " Layer (type)                Output Shape              Param #   \n",
      "=================================================================\n",
      " input_11 (InputLayer)       [(None, 28, 28, 1)]       0         \n",
      "                                                                 \n",
      " sequential_2 (Sequential)   (None, 1600)              19328     \n",
      "                                                                 \n",
      " dense_9 (Dense)             (None, 16)                25616     \n",
      "                                                                 \n",
      " activation_5 (Activation)   (None, 16)                0         \n",
      "                                                                 \n",
      "=================================================================\n",
      "Total params: 44,944\n",
      "Trainable params: 44,944\n",
      "Non-trainable params: 0\n",
      "_________________________________________________________________\n"
     ]
    }
   ],
   "source": [
    "model.compile(loss='categorical_crossentropy', \n",
    "              optimizer=tf.keras.optimizers.Adam(learning_rate=1e-4), \n",
    "              metrics=['accuracy'])\n",
    "\n",
    "model.summary()"
   ]
  },
  {
   "cell_type": "markdown",
   "metadata": {},
   "source": [
    "Determine accuracy:"
   ]
  },
  {
   "cell_type": "code",
   "execution_count": 90,
   "metadata": {},
   "outputs": [
    {
     "name": "stdout",
     "output_type": "stream",
     "text": [
      "200/200 [==============================] - 1s 3ms/step - loss: 3.9841 - accuracy: 0.0527\n"
     ]
    }
   ],
   "source": [
    "# determine accuaracy before training\n",
    "loss0, acc0 = model.evaluate(x = x_test_hex, y = y_test_hex)"
   ]
  },
  {
   "cell_type": "markdown",
   "metadata": {},
   "source": [
    "Train the model for 10 epochs:"
   ]
  },
  {
   "cell_type": "code",
   "execution_count": 93,
   "metadata": {},
   "outputs": [
    {
     "name": "stdout",
     "output_type": "stream",
     "text": [
      "Epoch 1/10\n",
      "241/241 - 6s - loss: 1.2239 - accuracy: 0.6515 - val_loss: 0.4124 - val_accuracy: 0.8891 - 6s/epoch - 26ms/step\n",
      "Epoch 2/10\n",
      "241/241 - 6s - loss: 0.3035 - accuracy: 0.9157 - val_loss: 0.2500 - val_accuracy: 0.9317 - 6s/epoch - 26ms/step\n",
      "Epoch 3/10\n",
      "241/241 - 6s - loss: 0.2067 - accuracy: 0.9402 - val_loss: 0.1967 - val_accuracy: 0.9429 - 6s/epoch - 24ms/step\n",
      "Epoch 4/10\n",
      "241/241 - 6s - loss: 0.1653 - accuracy: 0.9530 - val_loss: 0.1676 - val_accuracy: 0.9513 - 6s/epoch - 24ms/step\n",
      "Epoch 5/10\n",
      "241/241 - 6s - loss: 0.1413 - accuracy: 0.9586 - val_loss: 0.1508 - val_accuracy: 0.9577 - 6s/epoch - 24ms/step\n",
      "Epoch 6/10\n",
      "241/241 - 6s - loss: 0.1243 - accuracy: 0.9638 - val_loss: 0.1411 - val_accuracy: 0.9587 - 6s/epoch - 24ms/step\n",
      "Epoch 7/10\n",
      "241/241 - 6s - loss: 0.1115 - accuracy: 0.9674 - val_loss: 0.1296 - val_accuracy: 0.9605 - 6s/epoch - 24ms/step\n",
      "Epoch 8/10\n",
      "241/241 - 6s - loss: 0.1028 - accuracy: 0.9698 - val_loss: 0.1217 - val_accuracy: 0.9633 - 6s/epoch - 24ms/step\n",
      "Epoch 9/10\n",
      "241/241 - 6s - loss: 0.0944 - accuracy: 0.9726 - val_loss: 0.1165 - val_accuracy: 0.9654 - 6s/epoch - 24ms/step\n",
      "Epoch 10/10\n",
      "241/241 - 6s - loss: 0.0879 - accuracy: 0.9744 - val_loss: 0.1171 - val_accuracy: 0.9661 - 6s/epoch - 24ms/step\n"
     ]
    }
   ],
   "source": [
    "# train model for 10 epochs\n",
    "history = model.fit(x_train_hex, y_train_hex, batch_size=128, epochs=10, verbose=2, validation_data= (x_val_hex, y_val_hex))"
   ]
  },
  {
   "cell_type": "markdown",
   "metadata": {},
   "source": [
    "Plot accuracy / loss curves:"
   ]
  },
  {
   "cell_type": "code",
   "execution_count": 94,
   "metadata": {},
   "outputs": [
    {
     "data": {
      "text/plain": [
       "<matplotlib.legend.Legend at 0x17f83043190>"
      ]
     },
     "execution_count": 94,
     "metadata": {},
     "output_type": "execute_result"
    },
    {
     "data": {
      "image/png": "[encoded data removed]",
      "text/plain": [
       "<Figure size 1200x400 with 2 Axes>"
      ]
     },
     "metadata": {},
     "output_type": "display_data"
    }
   ],
   "source": [
    "plt.figure(figsize=(12,4))\n",
    "plt.subplot(1,2,(1))\n",
    "plt.plot(history.history['accuracy'],linestyle='-.')\n",
    "plt.plot(history.history['val_accuracy'])\n",
    "plt.title('model accuracy')\n",
    "plt.ylabel('accuracy')\n",
    "plt.xlabel('epoch')\n",
    "plt.legend(['train', 'valid'], loc='lower right')\n",
    "plt.subplot(1,2,(2))\n",
    "plt.plot(history.history['loss'],linestyle='-.')\n",
    "plt.plot(history.history['val_loss'])\n",
    "plt.title('model loss')\n",
    "plt.ylabel('loss')\n",
    "plt.xlabel('epoch')\n",
    "plt.legend(['train', 'valid'], loc='upper right')"
   ]
  },
  {
   "cell_type": "markdown",
   "metadata": {},
   "source": [
    "Create confusion matrix:"
   ]
  },
  {
   "cell_type": "code",
   "execution_count": 95,
   "metadata": {},
   "outputs": [
    {
     "name": "stdout",
     "output_type": "stream",
     "text": [
      "200/200 [==============================] - 1s 3ms/step\n",
      "[[386   0   1   0   0   0   2   0   0   0   2   0   0   9   0   0]\n",
      " [  0 395   2   0   1   0   0   0   0   0   0   0   0   1   0   1]\n",
      " [  0   0 390   2   1   0   0   0   3   0   0   1   0   3   0   0]\n",
      " [  1   0   0 393   0   3   0   0   1   1   0   1   0   0   0   0]\n",
      " [  1   0   0   0 383   0   0   0   1   4   5   1   1   1   0   3]\n",
      " [  1   0   1   2   1 386   1   0   1   3   0   0   2   0   0   2]\n",
      " [  0   1   0   0   0   1 396   0   0   0   0   0   1   0   0   1]\n",
      " [  1   1   1   1   2   0   0 389   0   3   0   0   0   1   0   1]\n",
      " [  0   1   0   0   0   3   0   0 378   5   1   9   0   1   1   1]\n",
      " [  0   0   0   0   1   0   0   4   2 392   0   0   1   0   0   0]\n",
      " [  1   0   4   0   2   0   0   0   1   1 388   2   0   1   0   0]\n",
      " [  2   0   2   0   0   1   1   0   6   0   4 380   1   0   3   0]\n",
      " [  5   0   1   0   0   0   4   0   0   0   0   0 387   0   2   1]\n",
      " [ 25   0   1   1   1   1   0   0   0   0   0   4   1 366   0   0]\n",
      " [  0   0   0   0   0   2   0   0   2   1   0   0   2   0 387   6]\n",
      " [  0   0   1   0   0   1   2   1   3   0   0   0   0   0   1 391]]\n",
      "Acc_fc_orig_flat =  0.96671875\n"
     ]
    }
   ],
   "source": [
    "pred = model.predict(x_test_hex)\n",
    "print(confusion_matrix(np.argmax(y_test_hex,axis=1),np.argmax(pred,axis=1)))\n",
    "acc_fc_orig = np.sum(np.argmax(y_test_hex,axis=1)==np.argmax(pred,axis=1))/len(pred)\n",
    "print(\"Acc_fc_orig_flat = \" , acc_fc_orig)"
   ]
  }
 ],
 "metadata": {
  "kernelspec": {
   "display_name": "venv",
   "language": "python",
   "name": "python3"
  },
  "language_info": {
   "codemirror_mode": {
    "name": "ipython",
    "version": 3
   },
   "file_extension": ".py",
   "mimetype": "text/x-python",
   "name": "python",
   "nbconvert_exporter": "python",
   "pygments_lexer": "ipython3",
   "version": "3.11.3"
  },
  "orig_nbformat": 4
 },
 "nbformat": 4,
 "nbformat_minor": 2
}
